{
 "cells": [
  {
   "cell_type": "code",
   "execution_count": 46,
   "metadata": {
    "collapsed": true
   },
   "outputs": [],
   "source": [
    "import json\n",
    "import numpy as np\n",
    "import matplotlib.pyplot as plt\n",
    "import pandas as pd\n",
    "from kmodes.kmodes import KModes\n",
    "import os\n",
    "from collections import Counter"
   ]
  },
  {
   "cell_type": "code",
   "execution_count": 47,
   "metadata": {
    "collapsed": true
   },
   "outputs": [],
   "source": [
    "def read_files():\n",
    "    \"\"\"\n",
    "    Reads in all the relevant files and returns them as dataframes\n",
    "    \"\"\"\n",
    "    X = pd.read_csv('/Users/Aansh/Documents/Brown /Research/AIMed/data/x_y_with_lace.csv')\n",
    "    Y = pd.read_csv('/Users/Aansh/Documents/Brown /Research/AIMed/data/y_more_no_df_clean.csv')\n",
    "    X_ICD9 = pd.read_csv('/Users/Aansh/Documents/Brown /Research/AIMed/data/patient_icd9.csv')\n",
    "    icd9_d = pd.read_csv('/Users/Aansh/Documents/Brown /Research/AIMed/data/DIAGNOSES_ICD.csv')\n",
    "    codes_file = open('/Users/Aansh/Documents/Brown /Research/AIMed/icd9/codes.json')\n",
    "    codes = json.load(codes_file)\n",
    "    return X, X_ICD9, icd9_d, codes_file, codes\n",
    "\n",
    "def map_disease_to_parent(codes):\n",
    "    \"\"\"\n",
    "    Maps each disease to parent in ICD9 hierarchy. In absence of a parent, maps to None.\n",
    "    Returns mapping of parents to children and nodes to their parents\n",
    "    \"\"\"\n",
    "    node_to_parent = {}\n",
    "    parent_to_child = {} \n",
    "    for i in range(len(codes)):\n",
    "        grouping = codes[i]\n",
    "        parent = None\n",
    "        for j in range(len(grouping)):\n",
    "            disease_classification = grouping[j]\n",
    "            code = disease_classification['code']\n",
    "            depth = disease_classification['depth']\n",
    "            if depth == 1: parent = code\n",
    "            node_to_parent[code] = parent\n",
    "            curr_children = parent_to_child.get(parent, [])\n",
    "            curr_children.append(code)\n",
    "            parent_to_child[parent] = curr_children\n",
    "    return parent_to_child, node_to_parent\n",
    "\n",
    "def generate_intervals(parent_to_child):\n",
    "    \"\"\"\n",
    "    Generates intervals for ICD9 codes to group codes in\n",
    "    \"\"\"\n",
    "    intervals = []\n",
    "    def split_intervals(key):\n",
    "        for i in range(len(key)):\n",
    "            if key[i] == \"-\": return key[:i-1], key[i+1:]\n",
    "    for key, _ in parent_to_child.items():\n",
    "        if key: intervals.append((split_intervals(key), key))\n",
    "    return intervals\n",
    "\n",
    "def get_parent_cluster(code, intervals):\n",
    "    \"\"\"\n",
    "    Returns the parent cluster for a particular code. \n",
    "    case 1: code begins with an E -> parent is None\n",
    "    case 2: code begins with an V -> parent is None\n",
    "    case 3: code is purely numerical then should exist within intervals\n",
    "    \"\"\"\n",
    "    if code[0] == \"E\" or code[0] == \"V\":\n",
    "        return None\n",
    "    for interval in intervals:\n",
    "        beginning = int(interval[0][0])\n",
    "        end = int(interval[0][1])\n",
    "        parent_cluster = interval[1]\n",
    "        if int(code[:3]) >= beginning and int(code[:3]) <= end:\n",
    "            return parent_cluster\n",
    "    print(\"Bad Code:\" + code[:3])\n",
    "    return None    \n",
    "\n",
    "def get_all_subject_IDs(X_ICD9):\n",
    "    \"\"\"\n",
    "    Returns set of all subject IDs in the dataset\n",
    "    \"\"\"\n",
    "    all_subjects = set()\n",
    "    for index, row in X_ICD9.iterrows(): all_subjects.add(row['SUBJECT_ID'])\n",
    "    return all_subjects\n",
    "        \n",
    "def get_patient_clusters(icd9_d, X_ICD9, parent_to_child):\n",
    "    \"\"\"\n",
    "    Returns mapping of subjects to their parent cluster for most severe condition,\n",
    "    and mapping of the number of patients within each cluster.\n",
    "    \"\"\"\n",
    "    icd9 = set()\n",
    "    patients_in_clusters = {}\n",
    "    not_exist = set()\n",
    "    intervals = generate_intervals(parent_to_child)\n",
    "    hadm_ids = []\n",
    "    clusters = []\n",
    "    all_subjects = get_all_subject_IDs(X_ICD9)\n",
    "    for index, row in icd9_d.iterrows():\n",
    "        subject_id = row['SUBJECT_ID']\n",
    "        hadm_id = row['HADM_ID']\n",
    "        if subject_id not in all_subjects:\n",
    "            continue\n",
    "        if row[\"SEQ_NUM\"] == 1.0:\n",
    "            severe_code = row[\"ICD9_CODE\"]\n",
    "            icd9_parent = get_parent_cluster(severe_code, intervals)\n",
    "            hadm_ids.append(hadm_id)\n",
    "            clusters.append(icd9_parent)\n",
    "            patients_in_clusters[icd9_parent] = patients_in_clusters.get(icd9_parent, 0) + 1\n",
    "    dict_to_df = {\"hadm_id\": hadm_ids, \"cluster\": clusters}\n",
    "    return patients_in_clusters, dict_to_df\n",
    "\n",
    "def add_cluster_to_dataframe(X, dict_to_df):\n",
    "    hadm_icd9_df = pd.DataFrame.from_dict(dict_to_df)\n",
    "    X_with_clusters = X.merge(hadm_icd9_df, left_on='hadm_id', right_on='hadm_id')\n",
    "    return X_with_clusters\n",
    "\n",
    "def create_cluster_csv(X_with_clusters, patients_in_clusters):\n",
    "    for c in X_with_clusters['cluster'].unique():\n",
    "        X_file_name = 'X_cluster_{0}.csv'.format(c) \n",
    "        Y_file_name = 'Y_cluster_{0}.csv'.format(c) \n",
    "        X_copy = X_with_clusters.copy()\n",
    "        Y = X_with_clusters[X_with_clusters['cluster'] == c]['label']\n",
    "        X_copy = X_copy[X_copy['cluster'] == c].drop(['label'], axis=1)\n",
    "        X_copy[X_copy['cluster'] == c].to_csv(X_file_name, sep=',', index=False)\n",
    "        Y.to_csv(Y_file_name, sep=',', index=False)\n",
    "    return True\n",
    "\n",
    "def main(): \n",
    "    X, X_ICD9, icd9_d, codes_file, codes = read_files()\n",
    "    X = X.drop(['LACE', 'sofa'], axis=1)\n",
    "    parent_to_child, node_to_parent = map_disease_to_parent(codes)\n",
    "    patients_in_clusters, dict_to_df = get_patient_clusters(icd9_d, X_ICD9, parent_to_child)\n",
    "    X_with_clusters = add_cluster_to_dataframe(X, dict_to_df)\n",
    "    create_cluster_csv(X_with_clusters, patients_in_clusters)"
   ]
  },
  {
   "cell_type": "code",
   "execution_count": 79,
   "metadata": {},
   "outputs": [],
   "source": [
    "X, X_ICD9, icd9_d, codes_file, codes = read_files()\n",
    "X = X.drop(['LACE', 'sofa'], axis=1)"
   ]
  },
  {
   "cell_type": "code",
   "execution_count": 80,
   "metadata": {
    "collapsed": true
   },
   "outputs": [],
   "source": [
    "parent_to_child, node_to_parent = map_disease_to_parent(codes)"
   ]
  },
  {
   "cell_type": "code",
   "execution_count": 81,
   "metadata": {
    "collapsed": true
   },
   "outputs": [],
   "source": [
    "patients_in_clusters, dict_to_df = get_patient_clusters(icd9_d, X_ICD9, parent_to_child)"
   ]
  },
  {
   "cell_type": "code",
   "execution_count": 82,
   "metadata": {
    "collapsed": true
   },
   "outputs": [],
   "source": [
    "X_with_clusters = add_cluster_to_dataframe(X, dict_to_df)"
   ]
  },
  {
   "cell_type": "code",
   "execution_count": null,
   "metadata": {
    "collapsed": true
   },
   "outputs": [],
   "source": [
    "create_cluster_csv(X_with_clusters, patients_in_clusters)"
   ]
  },
  {
   "cell_type": "code",
   "execution_count": 99,
   "metadata": {},
   "outputs": [],
   "source": [
    "def cluster_clusters(X, patient_icd9):\n",
    "    \"\"\"\n",
    "    Use K-Modes to cluster hierarchies together\n",
    "    \n",
    "    1. generate one hot encoding for bag of words\n",
    "        - map each cluster to a unique index \n",
    "        - \n",
    "    \"\"\" \n",
    "    clusters = list(patient_icd9.keys())\n",
    "    new_clusters = []\n",
    "    for c in clusters:\n",
    "        if c:\n",
    "            new_clusters.append(c)\n",
    "    clusters = new_clusters\n",
    "    clusters.sort()\n",
    "    clusters.append(None)\n",
    "    cluster_to_index = {}\n",
    "    for i, cluster in enumerate(clusters):\n",
    "        cluster_to_index[cluster] = i\n",
    "    num_clusters = len(clusters)\n",
    "    bow = np.zeros((X.shape[0], num_clusters))\n",
    "    for index, row in X.iterrows():\n",
    "        i = cluster_to_index[row['cluster']]\n",
    "        bow[index, i] = 1\n",
    "    Sum_of_squared_distances = []\n",
    "    K = range(1,20)\n",
    "    for k in K:\n",
    "        km = KModes(n_clusters=3, init='Huang', verbose=1)\n",
    "        clusters = km.fit_predict(bow)\n",
    "        Sum_of_squared_distances.append(km.cost_)\n",
    "    plt.plot(K, Sum_of_squared_distances, 'bx-')\n",
    "    plt.xlabel('k')\n",
    "    plt.ylabel('Sum_of_squared_distances')\n",
    "    plt.title('Elbow Method For Optimal k')\n",
    "    plt.show()"
   ]
  },
  {
   "cell_type": "code",
   "execution_count": 100,
   "metadata": {
    "scrolled": true
   },
   "outputs": [
    {
     "name": "stdout",
     "output_type": "stream",
     "text": [
      "Init: initializing centroids\n",
      "Init: initializing clusters\n",
      "Starting iterations...\n",
      "Run 1, iteration: 1/100, moves: 0, cost: 30336.0\n",
      "Init: initializing centroids\n",
      "Init: initializing clusters\n",
      "Starting iterations...\n",
      "Run 1, iteration: 1/100, moves: 0, cost: 32637.0\n",
      "Init: initializing centroids\n",
      "Init: initializing clusters\n",
      "Starting iterations...\n",
      "Run 1, iteration: 1/100, moves: 0, cost: 29962.0\n",
      "Init: initializing centroids\n",
      "Init: initializing clusters\n",
      "Starting iterations...\n",
      "Run 1, iteration: 1/100, moves: 0, cost: 25940.0\n",
      "Init: initializing centroids\n",
      "Init: initializing clusters\n",
      "Starting iterations...\n",
      "Run 1, iteration: 1/100, moves: 0, cost: 32839.0\n",
      "Init: initializing centroids\n",
      "Init: initializing clusters\n",
      "Starting iterations...\n",
      "Run 1, iteration: 1/100, moves: 0, cost: 26808.0\n",
      "Init: initializing centroids\n",
      "Init: initializing clusters\n",
      "Starting iterations...\n",
      "Run 1, iteration: 1/100, moves: 0, cost: 32033.0\n",
      "Init: initializing centroids\n",
      "Init: initializing clusters\n",
      "Starting iterations...\n",
      "Run 1, iteration: 1/100, moves: 0, cost: 21943.0\n",
      "Init: initializing centroids\n",
      "Init: initializing clusters\n",
      "Starting iterations...\n",
      "Run 1, iteration: 1/100, moves: 0, cost: 16082.0\n",
      "Init: initializing centroids\n",
      "Init: initializing clusters\n",
      "Starting iterations...\n",
      "Run 1, iteration: 1/100, moves: 0, cost: 30770.0\n",
      "Init: initializing centroids\n",
      "Init: initializing clusters\n",
      "Starting iterations...\n",
      "Run 1, iteration: 1/100, moves: 0, cost: 26912.0\n",
      "Init: initializing centroids\n",
      "Init: initializing clusters\n",
      "Starting iterations...\n",
      "Run 1, iteration: 1/100, moves: 0, cost: 21718.0\n",
      "Init: initializing centroids\n",
      "Init: initializing clusters\n",
      "Starting iterations...\n",
      "Run 1, iteration: 1/100, moves: 0, cost: 30770.0\n",
      "Init: initializing centroids\n",
      "Init: initializing clusters\n",
      "Starting iterations...\n",
      "Run 1, iteration: 1/100, moves: 0, cost: 30770.0\n",
      "Init: initializing centroids\n",
      "Init: initializing clusters\n",
      "Starting iterations...\n",
      "Run 1, iteration: 1/100, moves: 0, cost: 19595.0\n",
      "Init: initializing centroids\n",
      "Init: initializing clusters\n",
      "Starting iterations...\n",
      "Run 1, iteration: 1/100, moves: 0, cost: 30284.0\n",
      "Init: initializing centroids\n",
      "Init: initializing clusters\n",
      "Starting iterations...\n",
      "Run 1, iteration: 1/100, moves: 0, cost: 30770.0\n",
      "Init: initializing centroids\n",
      "Init: initializing clusters\n",
      "Starting iterations...\n",
      "Run 1, iteration: 1/100, moves: 0, cost: 29962.0\n",
      "Init: initializing centroids\n",
      "Init: initializing clusters\n",
      "Starting iterations...\n",
      "Run 1, iteration: 1/100, moves: 0, cost: 19595.0\n"
     ]
    },
    {
     "data": {
      "image/png": "[encoded data removed]",
      "text/plain": [
       "<matplotlib.figure.Figure at 0x122239cc0>"
      ]
     },
     "metadata": {},
     "output_type": "display_data"
    }
   ],
   "source": [
    "cluster_clusters(X_with_clusters, patients_in_clusters)"
   ]
  },
  {
   "cell_type": "code",
   "execution_count": null,
   "metadata": {
    "collapsed": true
   },
   "outputs": [],
   "source": []
  }
 ],
 "metadata": {
  "kernelspec": {
   "display_name": "Python 3",
   "language": "python",
   "name": "python3"
  },
  "language_info": {
   "codemirror_mode": {
    "name": "ipython",
    "version": 3
   },
   "file_extension": ".py",
   "mimetype": "text/x-python",
   "name": "python",
   "nbconvert_exporter": "python",
   "pygments_lexer": "ipython3",
   "version": "3.6.9"
  }
 },
 "nbformat": 4,
 "nbformat_minor": 2
}
