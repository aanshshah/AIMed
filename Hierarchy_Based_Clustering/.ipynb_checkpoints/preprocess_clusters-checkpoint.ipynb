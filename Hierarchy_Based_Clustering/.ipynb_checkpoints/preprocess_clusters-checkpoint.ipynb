{
 "cells": [
  {
   "cell_type": "code",
   "execution_count": 1,
   "metadata": {
    "collapsed": true
   },
   "outputs": [],
   "source": [
    "import json\n",
    "import numpy as np\n",
    "import matplotlib.pyplot as plt\n",
    "import pandas as pd\n",
    "from kmodes.kmodes import KModes\n",
    "import os\n",
    "from collections import Counter"
   ]
  },
  {
   "cell_type": "code",
   "execution_count": 29,
   "metadata": {
    "collapsed": true
   },
   "outputs": [],
   "source": [
    "def read_files():\n",
    "    \"\"\"\n",
    "    Reads in all the relevant files and returns them as dataframes\n",
    "    \"\"\"\n",
    "    X = pd.read_csv('/Users/Aansh/Documents/Brown /Research/AIMed/data/x_y_with_lace.csv')\n",
    "    Y = pd.read_csv('/Users/Aansh/Documents/Brown /Research/AIMed/data/y_more_no_df_clean.csv')\n",
    "    X_ICD9 = pd.read_csv('/Users/Aansh/Documents/Brown /Research/AIMed/data/patient_icd9.csv')\n",
    "    icd9_d = pd.read_csv('/Users/Aansh/Documents/Brown /Research/AIMed/data/DIAGNOSES_ICD.csv')\n",
    "    codes_file = open('/Users/Aansh/Documents/Brown /Research/AIMed/icd9/codes.json')\n",
    "    codes = json.load(codes_file)\n",
    "    return X, X_ICD9, icd9_d, codes_file, codes\n",
    "\n",
    "def map_disease_to_parent(codes):\n",
    "    \"\"\"\n",
    "    Maps each disease to parent in ICD9 hierarchy. In absence of a parent, maps to None.\n",
    "    Returns mapping of parents to children and nodes to their parents\n",
    "    \"\"\"\n",
    "    node_to_parent = {}\n",
    "    parent_to_child = {} \n",
    "    for i in range(len(codes)):\n",
    "        grouping = codes[i]\n",
    "        parent = None\n",
    "        for j in range(len(grouping)):\n",
    "            if grouping[j]['depth'] == 2: \n",
    "                parent = grouping[j]['code']\n",
    "        for j in range(len(grouping)):\n",
    "            disease_classification = grouping[j]\n",
    "            code = disease_classification['code']\n",
    "            depth = disease_classification['depth']\n",
    "            node_to_parent[code] = parent\n",
    "            curr_children = parent_to_child.get(parent, [])\n",
    "            curr_children.append(code)\n",
    "            parent_to_child[parent] = curr_children\n",
    "    return parent_to_child, node_to_parent\n",
    "\n",
    "def generate_intervals(parent_to_child):\n",
    "    \"\"\"\n",
    "    Generates intervals for ICD9 codes to group codes in\n",
    "    \"\"\"\n",
    "    intervals = []\n",
    "    def split_intervals(key):\n",
    "        for i in range(len(key)):\n",
    "            if key[i] == \"-\": \n",
    "                if key[:i-1] and key[i+1:]: return key[:i-1], key[i+1:]\n",
    "        return None\n",
    "    for key, _ in parent_to_child.items():\n",
    "        if key: \n",
    "            key_interval = split_intervals(key)\n",
    "            if key_interval:\n",
    "                intervals.append((key_interval, key))\n",
    "#     print(intervals)\n",
    "    return intervals\n",
    "\n",
    "def get_parent_cluster(code, intervals):\n",
    "    \"\"\"\n",
    "    Returns the parent cluster for a particular code. \n",
    "    case 1: code begins with an E -> parent is None\n",
    "    case 2: code begins with an V -> parent is None\n",
    "    case 3: code is purely numerical then should exist within intervals\n",
    "    \"\"\"\n",
    "    if code[0] == \"E\" or code[0] == \"V\":\n",
    "        return None\n",
    "    for interval in intervals:\n",
    "        beginning = int(interval[0][0])\n",
    "        end = int(interval[0][1])\n",
    "        parent_cluster = interval[1]\n",
    "        if int(code[:3]) >= beginning and int(code[:3]) <= end:\n",
    "            return parent_cluster\n",
    "    print(\"Bad Code:\" + code[:3])\n",
    "    return None    \n",
    "\n",
    "def get_all_subject_IDs(X_ICD9):\n",
    "    \"\"\"\n",
    "    Returns set of all subject IDs in the dataset\n",
    "    \"\"\"\n",
    "    all_subjects = set()\n",
    "    for index, row in X_ICD9.iterrows(): all_subjects.add(row['SUBJECT_ID'])\n",
    "    return all_subjects\n",
    "        \n",
    "def get_patient_clusters(icd9_d, X_ICD9, parent_to_child):\n",
    "    \"\"\"\n",
    "    Returns mapping of subjects to their parent cluster for most severe condition,\n",
    "    and mapping of the number of patients within each cluster.\n",
    "    \"\"\"\n",
    "    icd9 = set()\n",
    "    patients_in_clusters = {}\n",
    "    not_exist = set()\n",
    "    intervals = generate_intervals(parent_to_child)\n",
    "    hadm_ids = []\n",
    "    clusters = []\n",
    "    all_subjects = get_all_subject_IDs(X_ICD9)\n",
    "    for index, row in icd9_d.iterrows():\n",
    "        subject_id = row['SUBJECT_ID']\n",
    "        hadm_id = row['HADM_ID']\n",
    "        if subject_id not in all_subjects:\n",
    "            continue\n",
    "        if row[\"SEQ_NUM\"] == 1.0:\n",
    "            severe_code = row[\"ICD9_CODE\"]\n",
    "            icd9_parent = get_parent_cluster(severe_code, intervals)\n",
    "            hadm_ids.append(hadm_id)\n",
    "            clusters.append(icd9_parent)\n",
    "            patients_in_clusters[icd9_parent] = patients_in_clusters.get(icd9_parent, 0) + 1\n",
    "    dict_to_df = {\"hadm_id\": hadm_ids, \"cluster\": clusters}\n",
    "    return patients_in_clusters, dict_to_df\n",
    "\n",
    "def add_cluster_to_dataframe(X, dict_to_df):\n",
    "    hadm_icd9_df = pd.DataFrame.from_dict(dict_to_df)\n",
    "    X_with_clusters = X.merge(hadm_icd9_df, left_on='hadm_id', right_on='hadm_id')\n",
    "    return X_with_clusters\n",
    "\n",
    "def create_cluster_csv(X_with_clusters, patients_in_clusters):\n",
    "    for c in X_with_clusters['cluster'].unique():\n",
    "        X_file_name = 'X_cluster_{0}.csv'.format(c) \n",
    "        Y_file_name = 'Y_cluster_{0}.csv'.format(c) \n",
    "        X_copy = X_with_clusters.copy()\n",
    "        Y = X_with_clusters[X_with_clusters['cluster'] == c]['label']\n",
    "        X_copy = X_copy[X_copy['cluster'] == c].drop(['label'], axis=1)\n",
    "        X_copy[X_copy['cluster'] == c].to_csv(X_file_name, sep=',', index=False)\n",
    "        Y.to_csv(Y_file_name, sep=',', index=False)\n",
    "    return True\n",
    "\n",
    "def main(): \n",
    "    X, X_ICD9, icd9_d, codes_file, codes = read_files()\n",
    "    X = X.drop(['LACE', 'sofa'], axis=1)\n",
    "    parent_to_child, node_to_parent = map_disease_to_parent(codes)\n",
    "    patients_in_clusters, dict_to_df = get_patient_clusters(icd9_d, X_ICD9, parent_to_child)\n",
    "    X_with_clusters = add_cluster_to_dataframe(X, dict_to_df)\n",
    "    create_cluster_csv(X_with_clusters, patients_in_clusters)"
   ]
  },
  {
   "cell_type": "code",
   "execution_count": 30,
   "metadata": {
    "collapsed": true
   },
   "outputs": [],
   "source": [
    "X, X_ICD9, icd9_d, codes_file, codes = read_files()\n",
    "X = X.drop(['LACE', 'sofa'], axis=1)"
   ]
  },
  {
   "cell_type": "code",
   "execution_count": 31,
   "metadata": {
    "collapsed": true
   },
   "outputs": [],
   "source": [
    "parent_to_child, node_to_parent = map_disease_to_parent(codes)"
   ]
  },
  {
   "cell_type": "code",
   "execution_count": 32,
   "metadata": {
    "collapsed": true
   },
   "outputs": [],
   "source": [
    "patients_in_clusters, dict_to_df = get_patient_clusters(icd9_d, X_ICD9, parent_to_child)"
   ]
  },
  {
   "cell_type": "code",
   "execution_count": 33,
   "metadata": {
    "collapsed": true
   },
   "outputs": [],
   "source": [
    "X_with_clusters = add_cluster_to_dataframe(X, dict_to_df)"
   ]
  },
  {
   "cell_type": "code",
   "execution_count": 34,
   "metadata": {},
   "outputs": [
    {
     "data": {
      "text/plain": [
       "True"
      ]
     },
     "execution_count": 34,
     "metadata": {},
     "output_type": "execute_result"
    }
   ],
   "source": [
    "create_cluster_csv(X_with_clusters, patients_in_clusters)"
   ]
  },
  {
   "cell_type": "code",
   "execution_count": 55,
   "metadata": {
    "collapsed": true
   },
   "outputs": [],
   "source": [
    "def separate_clusters():\n",
    "    path_to_save = '../data/hierarchy_clustered/kmodes/'\n",
    "    data = pd.read_csv('../data/labeled_clustered_data.csv')\n",
    "    df = data.drop(['Unnamed: 0', 'Unnamed: 0_y', 'sapsii', 'sofa'], axis=1)\n",
    "    df_0 = df[df['cluster_num'] == 0].drop(['cluster_num'], axis=1)\n",
    "    df_0_label = df_0.pop('label')\n",
    "    df_0.to_csv(path_to_save+'X_cluster_0.csv')\n",
    "    df_0_label.to_csv(path_to_save+'Y_cluster_0.csv', index=False)\n",
    "    df_1 = df[df['cluster_num'] == 1].drop(['cluster_num'], axis=1)\n",
    "    df_1_label = df_1.pop('label')\n",
    "    df_1.to_csv(path_to_save+'X_cluster_1.csv')\n",
    "    df_1_label.to_csv(path_to_save+'Y_cluster_1.csv', index=False)\n",
    "    df_2 = df[df['cluster_num'] == 2].drop(['cluster_num'], axis=1)\n",
    "    df_2_label = df_2.pop('label')\n",
    "    df_2.to_csv(path_to_save+'X_cluster_2.csv')\n",
    "    df_2_label.to_csv(path_to_save+'Y_cluster_2.csv', index=False)    "
   ]
  },
  {
   "cell_type": "code",
   "execution_count": 56,
   "metadata": {
    "scrolled": true
   },
   "outputs": [],
   "source": [
    "separate_clusters()"
   ]
  },
  {
   "cell_type": "code",
   "execution_count": null,
   "metadata": {
    "collapsed": true
   },
   "outputs": [],
   "source": []
  }
 ],
 "metadata": {
  "kernelspec": {
   "display_name": "Python 3",
   "language": "python",
   "name": "python3"
  },
  "language_info": {
   "codemirror_mode": {
    "name": "ipython",
    "version": 3
   },
   "file_extension": ".py",
   "mimetype": "text/x-python",
   "name": "python",
   "nbconvert_exporter": "python",
   "pygments_lexer": "ipython3",
   "version": "3.6.9"
  }
 },
 "nbformat": 4,
 "nbformat_minor": 2
}
