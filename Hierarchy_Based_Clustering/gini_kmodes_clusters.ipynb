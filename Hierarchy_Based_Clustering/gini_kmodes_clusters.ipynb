{
 "cells": [
  {
   "cell_type": "code",
   "execution_count": 29,
   "metadata": {
    "collapsed": true
   },
   "outputs": [],
   "source": [
    "import pandas as pd\n",
    "import numpy as np\n",
    "import json\n",
    "import sys"
   ]
  },
  {
   "cell_type": "code",
   "execution_count": 49,
   "metadata": {
    "collapsed": true
   },
   "outputs": [],
   "source": [
    "def read_files():\n",
    "    data = pd.read_csv('../data/labeled_clustered_data_with_ids.csv')\n",
    "    X_ICD9 = pd.read_csv('/Users/Aansh/Documents/Brown /Research/AIMed/data/patient_icd9.csv')\n",
    "    icd9_d = pd.read_csv('/Users/Aansh/Documents/Brown /Research/AIMed/data/DIAGNOSES_ICD.csv')\n",
    "    codes_file = open('/Users/Aansh/Documents/Brown /Research/AIMed/icd9/codes.json')\n",
    "    codes = json.load(codes_file)\n",
    "    return data, X_ICD9, icd9_d, codes_file, codes\n",
    "def map_disease_to_parent(codes):\n",
    "    \"\"\"\n",
    "    Maps each disease to parent in ICD9 hierarchy. In absence of a parent, maps to None.\n",
    "    Returns mapping of parents to children and nodes to their parents\n",
    "    \"\"\"\n",
    "    node_to_parent = {}\n",
    "    parent_to_child = {} \n",
    "    for i in range(len(codes)):\n",
    "        grouping = codes[i]\n",
    "        parent = None\n",
    "        for j in range(len(grouping)):\n",
    "            if grouping[j]['depth'] == 1: \n",
    "                parent = grouping[j]['code']\n",
    "        for j in range(len(grouping)):\n",
    "            disease_classification = grouping[j]\n",
    "            code = disease_classification['code']\n",
    "            depth = disease_classification['depth']\n",
    "            node_to_parent[code] = parent\n",
    "            curr_children = parent_to_child.get(parent, [])\n",
    "            curr_children.append(code)\n",
    "            parent_to_child[parent] = curr_children\n",
    "    return parent_to_child, node_to_parent\n",
    "\n",
    "def generate_intervals(parent_to_child):\n",
    "    \"\"\"\n",
    "    Generates intervals for ICD9 codes to group codes in\n",
    "    \"\"\"\n",
    "    intervals = []\n",
    "    def split_intervals(key):\n",
    "        for i in range(len(key)):\n",
    "            if key[i] == \"-\": \n",
    "                if key[:i-1] and key[i+1:]: return key[:i-1], key[i+1:]\n",
    "        return None\n",
    "    for key, _ in parent_to_child.items():\n",
    "        if key: \n",
    "            key_interval = split_intervals(key)\n",
    "            if key_interval:\n",
    "                intervals.append((key_interval, key))\n",
    "#     print(intervals)\n",
    "    return intervals\n",
    "\n",
    "def get_parent_cluster(code, intervals):\n",
    "    \"\"\"\n",
    "    Returns the parent cluster for a particular code. \n",
    "    case 1: code begins with an E -> parent is None\n",
    "    case 2: code begins with an V -> parent is None\n",
    "    case 3: code is purely numerical then should exist within intervals\n",
    "    \"\"\"\n",
    "    if code[0] == \"E\" or code[0] == \"V\":\n",
    "        return None\n",
    "    for interval in intervals:\n",
    "        beginning = int(interval[0][0])\n",
    "        end = int(interval[0][1])\n",
    "        parent_cluster = interval[1]\n",
    "        if int(code[:3]) >= beginning and int(code[:3]) <= end:\n",
    "            return parent_cluster\n",
    "    print(\"Bad Code:\" + code[:3])\n",
    "    return None    \n",
    "\n",
    "def get_all_subject_IDs(X_ICD9):\n",
    "    \"\"\"\n",
    "    Returns set of all subject IDs in the dataset\n",
    "    \"\"\"\n",
    "    all_subjects = set()\n",
    "    for index, row in X_ICD9.iterrows(): all_subjects.add(row['SUBJECT_ID'])\n",
    "    return all_subjects\n",
    "        \n",
    "def get_patient_clusters(icd9_d, X_ICD9, parent_to_child):\n",
    "    \"\"\"\n",
    "    Returns mapping of subjects to their parent cluster for most severe condition,\n",
    "    and mapping of the number of patients within each cluster.\n",
    "    \"\"\"\n",
    "    icd9 = set()\n",
    "    patients_in_clusters = {}\n",
    "    not_exist = set()\n",
    "    intervals = generate_intervals(parent_to_child)\n",
    "    hadm_ids = []\n",
    "    clusters = []\n",
    "    all_subjects = get_all_subject_IDs(X_ICD9)\n",
    "    for index, row in icd9_d.iterrows():\n",
    "        subject_id = row['SUBJECT_ID']\n",
    "        hadm_id = row['HADM_ID']\n",
    "        if subject_id not in all_subjects:\n",
    "            continue\n",
    "        if row[\"SEQ_NUM\"] == 1.0:\n",
    "            severe_code = row[\"ICD9_CODE\"]\n",
    "            icd9_parent = get_parent_cluster(severe_code, intervals)\n",
    "            hadm_ids.append(hadm_id)\n",
    "            clusters.append(icd9_parent)\n",
    "            patients_in_clusters[icd9_parent] = patients_in_clusters.get(icd9_parent, 0) + 1\n",
    "    dict_to_df = {\"hadm_id\": hadm_ids, \"cluster\": clusters}\n",
    "    return patients_in_clusters, dict_to_df\n",
    "\n",
    "def add_cluster_to_dataframe(X, dict_to_df):\n",
    "    hadm_icd9_df = pd.DataFrame.from_dict(dict_to_df)\n",
    "    X_with_clusters = X.merge(hadm_icd9_df, left_on='hadm_id', right_on='hadm_id')\n",
    "    return X_with_clusters\n",
    "\n",
    "def create_cluster_csv(X_with_clusters, patients_in_clusters):\n",
    "    for c in X_with_clusters['cluster'].unique():\n",
    "        X_file_name = 'X_cluster_{0}.csv'.format(c) \n",
    "        Y_file_name = 'Y_cluster_{0}.csv'.format(c) \n",
    "        X_copy = X_with_clusters.copy()\n",
    "        Y = X_with_clusters[X_with_clusters['cluster'] == c]['label']\n",
    "        X_copy = X_copy[X_copy['cluster'] == c].drop(['label'], axis=1)\n",
    "        X_copy[X_copy['cluster'] == c].to_csv(X_file_name, sep=',', index=False)\n",
    "        Y.to_csv(Y_file_name, sep=',', index=False)\n",
    "    return True"
   ]
  },
  {
   "cell_type": "code",
   "execution_count": 50,
   "metadata": {},
   "outputs": [],
   "source": [
    "X, X_ICD9, icd9_d, codes_file, codes = read_files()\n",
    "parent_to_child, node_to_parent = map_disease_to_parent(codes)\n",
    "patients_in_clusters, dict_to_df = get_patient_clusters(icd9_d, X_ICD9, parent_to_child)\n",
    "X_with_clusters = add_cluster_to_dataframe(X, dict_to_df)"
   ]
  },
  {
   "cell_type": "code",
   "execution_count": 51,
   "metadata": {
    "collapsed": true
   },
   "outputs": [],
   "source": [
    "def gini(array):\n",
    "    \"\"\"Calculate the Gini coefficient of a numpy array.\"\"\"\n",
    "    # based on bottom eq:\n",
    "    # http://www.statsdirect.com/help/generatedimages/equations/equation154.svg\n",
    "    # from:\n",
    "    # http://www.statsdirect.com/help/default.htm#nonparametric_methods/gini.htm\n",
    "    # All values are treated equally, arrays must be 1d:\n",
    "    array = array.flatten()\n",
    "    if np.amin(array) < 0:\n",
    "        # Values cannot be negative:\n",
    "        array -= np.amin(array)\n",
    "    # Values cannot be 0:\n",
    "    array += 0.0000001\n",
    "    # Values must be sorted:\n",
    "    array = np.sort(array)\n",
    "    # Index per array element:\n",
    "    index = np.arange(1,array.shape[0]+1)\n",
    "    # Number of array elements:\n",
    "    n = array.shape[0]\n",
    "    # Gini coefficient:\n",
    "    return ((np.sum((2 * index - n  - 1) * array)) / (n * np.sum(array)))"
   ]
  },
  {
   "cell_type": "code",
   "execution_count": 52,
   "metadata": {
    "collapsed": true
   },
   "outputs": [],
   "source": [
    "def generate_cluster_ids(icd9_ids):\n",
    "    id_map = {}\n",
    "    idx = 0\n",
    "    for code in icd9_ids:\n",
    "        if code not in id_map:\n",
    "            id_map[code] = idx\n",
    "            idx += 1\n",
    "    return id_map, idx\n",
    "\n",
    "def convert_list_to_id_map(id_map, codes, max_id):\n",
    "    for i in range(len(codes)):\n",
    "        code = codes[i]\n",
    "        codes[i] = id_map.get(code, max_id)\n",
    "        if codes[i] == max_id: max_id += 1\n",
    "    return np.array(codes, dtype=float)\n",
    "\n",
    "def filter_cluster_lists(cluster):\n",
    "    for i in range(len(cluster)):\n",
    "        if not cluster[i]:\n",
    "            cluster[i] = 'None'\n",
    "    return cluster"
   ]
  },
  {
   "cell_type": "code",
   "execution_count": 53,
   "metadata": {},
   "outputs": [
    {
     "name": "stdout",
     "output_type": "stream",
     "text": [
      "0.24594422815275316 0.37793898955408056 0.2839875692282057\n"
     ]
    }
   ],
   "source": [
    "#to generate with different depths, depths in map_disease_to_parent to 1 or 2\n",
    "code_ids, max_id = generate_cluster_ids(parent_to_child.keys())\n",
    "cluster_0 = convert_list_to_id_map(code_ids, list(X_with_clusters[X_with_clusters['cluster_num']==0]['cluster']), max_id)\n",
    "cluster_1 = convert_list_to_id_map(code_ids, list(X_with_clusters[X_with_clusters['cluster_num']==1]['cluster']), max_id)\n",
    "cluster_2 = convert_list_to_id_map(code_ids, list(X_with_clusters[X_with_clusters['cluster_num']==2]['cluster']), max_id)\n",
    "g_0 = gini(cluster_0)\n",
    "g_1 = gini(cluster_1)\n",
    "g_2 = gini(cluster_2)\n",
    "print(g_0, g_1, g_2)\n",
    "f = open('results/kmodes_clusters/gini_depth_1.csv', 'w')\n",
    "f.write('cluster_0,cluster_1,cluster_2 \\n {0},{1},{2}'.format(g_0,g_1,g_2))\n",
    "f.close()"
   ]
  },
  {
   "cell_type": "code",
   "execution_count": null,
   "metadata": {
    "collapsed": true
   },
   "outputs": [],
   "source": []
  }
 ],
 "metadata": {
  "kernelspec": {
   "display_name": "Python 3",
   "language": "python",
   "name": "python3"
  },
  "language_info": {
   "codemirror_mode": {
    "name": "ipython",
    "version": 3
   },
   "file_extension": ".py",
   "mimetype": "text/x-python",
   "name": "python",
   "nbconvert_exporter": "python",
   "pygments_lexer": "ipython3",
   "version": "3.6.9"
  }
 },
 "nbformat": 4,
 "nbformat_minor": 2
}
