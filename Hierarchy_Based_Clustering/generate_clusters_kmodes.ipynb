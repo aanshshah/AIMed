{
 "cells": [
  {
   "cell_type": "markdown",
   "metadata": {},
   "source": [
    "- Go through each cluster file and it's corresponding targets \n",
    "- train the models and record the relevant output details to a csv file "
   ]
  },
  {
   "cell_type": "code",
   "execution_count": 6,
   "metadata": {
    "collapsed": true
   },
   "outputs": [],
   "source": [
    "import pandas as pd\n",
    "import numpy as np\n",
    "import matplotlib.pyplot as plt\n",
    "import os"
   ]
  },
  {
   "cell_type": "code",
   "execution_count": 23,
   "metadata": {},
   "outputs": [],
   "source": [
    "hierarchy_path = \"../data/hierarchy_clustered\"\n",
    "files = os.listdir(hierarchy_path)\n",
    "files.sort()\n",
    "file_mapping = {}\n",
    "for file in files:\n",
    "    file_type = file.split(\"_\")[0]\n",
    "    cluster_num = file.split(\"_\")[2][:-4]\n",
    "    if file_type == \"X\":\n",
    "        file_mapping[cluster_num] = [file]\n",
    "    else:\n",
    "        curr = file_mapping.get(cluster_num)\n",
    "        curr.append(file)\n",
    "        file_mapping[cluster_num] = curr"
   ]
  },
  {
   "cell_type": "code",
   "execution_count": null,
   "metadata": {
    "collapsed": true
   },
   "outputs": [],
   "source": []
  },
  {
   "cell_type": "code",
   "execution_count": null,
   "metadata": {
    "collapsed": true
   },
   "outputs": [],
   "source": []
  },
  {
   "cell_type": "code",
   "execution_count": null,
   "metadata": {},
   "outputs": [],
   "source": []
  },
  {
   "cell_type": "code",
   "execution_count": null,
   "metadata": {
    "collapsed": true
   },
   "outputs": [],
   "source": []
  }
 ],
 "metadata": {
  "kernelspec": {
   "display_name": "Python 3",
   "language": "python",
   "name": "python3"
  },
  "language_info": {
   "codemirror_mode": {
    "name": "ipython",
    "version": 3
   },
   "file_extension": ".py",
   "mimetype": "text/x-python",
   "name": "python",
   "nbconvert_exporter": "python",
   "pygments_lexer": "ipython3",
   "version": "3.6.9"
  }
 },
 "nbformat": 4,
 "nbformat_minor": 2
}
